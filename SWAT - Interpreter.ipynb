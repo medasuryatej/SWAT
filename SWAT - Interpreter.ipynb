{
 "cells": [
  {
   "cell_type": "code",
   "execution_count": 18,
   "metadata": {},
   "outputs": [],
   "source": [
    "import os\n",
    "import re\n",
    "import pandas as pd\n",
    "import numpy as np\n",
    "import matplotlib.pyplot as plt"
   ]
  },
  {
   "cell_type": "code",
   "execution_count": 2,
   "metadata": {},
   "outputs": [],
   "source": [
    "# Use 3 decimal places in output display\n",
    "pd.set_option(\"display.precision\", 3)\n",
    "\n",
    "# Don't wrap repr(DataFrame) across additional lines\n",
    "pd.set_option(\"display.expand_frame_repr\", False)\n",
    "\n",
    "# Set max rows displayed in output to 25\n",
    "pd.set_option(\"display.max_rows\", 25)"
   ]
  },
  {
   "cell_type": "code",
   "execution_count": 3,
   "metadata": {},
   "outputs": [],
   "source": [
    "chatfile=r\"C:\\Users\\surya\\OneDrive\\Documents\\WhatsApp Chat with Sindhu Jr Rockwell.txt\""
   ]
  },
  {
   "cell_type": "code",
   "execution_count": 4,
   "metadata": {},
   "outputs": [],
   "source": [
    "#regex pattern\n",
    "pattern = r\"(\\d{1,2}\\/\\d{1,2}\\/\\d{2}),(\\s\\d{1,2}:\\d{2})\\s([AP]M)\\s-\\s([A-Za-z0-9\\s]+):\\s\""
   ]
  },
  {
   "cell_type": "code",
   "execution_count": 5,
   "metadata": {},
   "outputs": [],
   "source": [
    "full_convo = re.split(pattern, open(chatfile,'r',encoding=\"utf-8\").read())\n",
    "full_convo_len = len(full_convo)"
   ]
  },
  {
   "cell_type": "code",
   "execution_count": 6,
   "metadata": {},
   "outputs": [],
   "source": [
    "full_convo.pop(0)\n",
    "full_convo_len -= 1"
   ]
  },
  {
   "cell_type": "code",
   "execution_count": 7,
   "metadata": {},
   "outputs": [
    {
     "data": {
      "text/plain": [
       "4825"
      ]
     },
     "execution_count": 7,
     "metadata": {},
     "output_type": "execute_result"
    }
   ],
   "source": [
    "full_convo_len"
   ]
  },
  {
   "cell_type": "code",
   "execution_count": 8,
   "metadata": {},
   "outputs": [],
   "source": [
    "df = pd.DataFrame({\"Date\":[],\n",
    "                   \"Time\":[],\n",
    "                   \"AMPM\":[],\n",
    "                   \"User\":[],\n",
    "                   \"Chat\":[]})"
   ]
  },
  {
   "cell_type": "code",
   "execution_count": 9,
   "metadata": {},
   "outputs": [],
   "source": [
    "# Filter Special Characters\n",
    "def filter_chat(_string):\n",
    "    temp = re.sub('[^A-Za-z0-9\\s]+', '', _string)\n",
    "    temp = temp.replace(\"\\n\",\"\")\n",
    "    temp = re.sub(\"\\n|\\t|\\r\",\"\",temp)\n",
    "    return temp"
   ]
  },
  {
   "cell_type": "code",
   "execution_count": 10,
   "metadata": {},
   "outputs": [],
   "source": [
    "for i in range(int(full_convo_len/5)):\n",
    "    df.loc[i] = [full_convo[5*i].strip(), full_convo[5*i+1].strip(), full_convo[5*i+2].strip(), full_convo[5*i+3].strip(), filter_chat(full_convo[5*i+4].strip()),]"
   ]
  },
  {
   "cell_type": "code",
   "execution_count": 11,
   "metadata": {},
   "outputs": [
    {
     "data": {
      "text/html": [
       "<div>\n",
       "<style scoped>\n",
       "    .dataframe tbody tr th:only-of-type {\n",
       "        vertical-align: middle;\n",
       "    }\n",
       "\n",
       "    .dataframe tbody tr th {\n",
       "        vertical-align: top;\n",
       "    }\n",
       "\n",
       "    .dataframe thead th {\n",
       "        text-align: right;\n",
       "    }\n",
       "</style>\n",
       "<table border=\"1\" class=\"dataframe\">\n",
       "  <thead>\n",
       "    <tr style=\"text-align: right;\">\n",
       "      <th></th>\n",
       "      <th>Date</th>\n",
       "      <th>Time</th>\n",
       "      <th>AMPM</th>\n",
       "      <th>User</th>\n",
       "      <th>Chat</th>\n",
       "    </tr>\n",
       "  </thead>\n",
       "  <tbody>\n",
       "    <tr>\n",
       "      <td>0</td>\n",
       "      <td>12/13/17</td>\n",
       "      <td>1:15</td>\n",
       "      <td>AM</td>\n",
       "      <td>Sindhu Jr Rockwell</td>\n",
       "      <td>Its a girl lifting weights</td>\n",
       "    </tr>\n",
       "    <tr>\n",
       "      <td>1</td>\n",
       "      <td>12/13/17</td>\n",
       "      <td>1:37</td>\n",
       "      <td>AM</td>\n",
       "      <td>Suryatej</td>\n",
       "      <td></td>\n",
       "    </tr>\n",
       "    <tr>\n",
       "      <td>2</td>\n",
       "      <td>12/13/17</td>\n",
       "      <td>2:21</td>\n",
       "      <td>AM</td>\n",
       "      <td>Sindhu Jr Rockwell</td>\n",
       "      <td></td>\n",
       "    </tr>\n",
       "    <tr>\n",
       "      <td>3</td>\n",
       "      <td>12/15/17</td>\n",
       "      <td>6:21</td>\n",
       "      <td>AM</td>\n",
       "      <td>Sindhu Jr Rockwell</td>\n",
       "      <td></td>\n",
       "    </tr>\n",
       "    <tr>\n",
       "      <td>4</td>\n",
       "      <td>12/15/17</td>\n",
       "      <td>6:21</td>\n",
       "      <td>AM</td>\n",
       "      <td>Suryatej</td>\n",
       "      <td>Yeah I know My fav director</td>\n",
       "    </tr>\n",
       "    <tr>\n",
       "      <td>5</td>\n",
       "      <td>12/15/17</td>\n",
       "      <td>6:22</td>\n",
       "      <td>AM</td>\n",
       "      <td>Sindhu Jr Rockwell</td>\n",
       "      <td>Any plans of killing ur life heroines family m...</td>\n",
       "    </tr>\n",
       "    <tr>\n",
       "      <td>6</td>\n",
       "      <td>12/15/17</td>\n",
       "      <td>6:22</td>\n",
       "      <td>AM</td>\n",
       "      <td>Sindhu Jr Rockwell</td>\n",
       "      <td></td>\n",
       "    </tr>\n",
       "    <tr>\n",
       "      <td>7</td>\n",
       "      <td>12/15/17</td>\n",
       "      <td>6:22</td>\n",
       "      <td>AM</td>\n",
       "      <td>Sindhu Jr Rockwell</td>\n",
       "      <td></td>\n",
       "    </tr>\n",
       "    <tr>\n",
       "      <td>8</td>\n",
       "      <td>12/15/17</td>\n",
       "      <td>6:23</td>\n",
       "      <td>AM</td>\n",
       "      <td>Suryatej</td>\n",
       "      <td></td>\n",
       "    </tr>\n",
       "    <tr>\n",
       "      <td>9</td>\n",
       "      <td>12/15/17</td>\n",
       "      <td>6:23</td>\n",
       "      <td>AM</td>\n",
       "      <td>Suryatej</td>\n",
       "      <td>I was thinking of hero perspective Protecting ...</td>\n",
       "    </tr>\n",
       "    <tr>\n",
       "      <td>10</td>\n",
       "      <td>12/15/17</td>\n",
       "      <td>6:23</td>\n",
       "      <td>AM</td>\n",
       "      <td>Sindhu Jr Rockwell</td>\n",
       "      <td>Not her family</td>\n",
       "    </tr>\n",
       "    <tr>\n",
       "      <td>11</td>\n",
       "      <td>12/15/17</td>\n",
       "      <td>6:25</td>\n",
       "      <td>AM</td>\n",
       "      <td>Suryatej</td>\n",
       "      <td>Women are strong They can protect Their own fa...</td>\n",
       "    </tr>\n",
       "    <tr>\n",
       "      <td>12</td>\n",
       "      <td>12/15/17</td>\n",
       "      <td>6:27</td>\n",
       "      <td>AM</td>\n",
       "      <td>Sindhu Jr Rockwell</td>\n",
       "      <td>Not themselves</td>\n",
       "    </tr>\n",
       "  </tbody>\n",
       "</table>\n",
       "</div>"
      ],
      "text/plain": [
       "        Date  Time AMPM                User                                               Chat\n",
       "0   12/13/17  1:15   AM  Sindhu Jr Rockwell                        Its a girl lifting weights \n",
       "1   12/13/17  1:37   AM            Suryatej                                                   \n",
       "2   12/13/17  2:21   AM  Sindhu Jr Rockwell                                                   \n",
       "3   12/15/17  6:21   AM  Sindhu Jr Rockwell                                                   \n",
       "4   12/15/17  6:21   AM            Suryatej                        Yeah I know My fav director\n",
       "5   12/15/17  6:22   AM  Sindhu Jr Rockwell  Any plans of killing ur life heroines family m...\n",
       "6   12/15/17  6:22   AM  Sindhu Jr Rockwell                                                   \n",
       "7   12/15/17  6:22   AM  Sindhu Jr Rockwell                                                   \n",
       "8   12/15/17  6:23   AM            Suryatej                                                   \n",
       "9   12/15/17  6:23   AM            Suryatej  I was thinking of hero perspective Protecting ...\n",
       "10  12/15/17  6:23   AM  Sindhu Jr Rockwell                                    Not her family \n",
       "11  12/15/17  6:25   AM            Suryatej  Women are strong They can protect Their own fa...\n",
       "12  12/15/17  6:27   AM  Sindhu Jr Rockwell                                    Not themselves "
      ]
     },
     "execution_count": 11,
     "metadata": {},
     "output_type": "execute_result"
    }
   ],
   "source": [
    "df.head(13) # First Converstation"
   ]
  },
  {
   "cell_type": "code",
   "execution_count": 13,
   "metadata": {},
   "outputs": [
    {
     "data": {
      "text/html": [
       "<div>\n",
       "<style scoped>\n",
       "    .dataframe tbody tr th:only-of-type {\n",
       "        vertical-align: middle;\n",
       "    }\n",
       "\n",
       "    .dataframe tbody tr th {\n",
       "        vertical-align: top;\n",
       "    }\n",
       "\n",
       "    .dataframe thead th {\n",
       "        text-align: right;\n",
       "    }\n",
       "</style>\n",
       "<table border=\"1\" class=\"dataframe\">\n",
       "  <thead>\n",
       "    <tr style=\"text-align: right;\">\n",
       "      <th></th>\n",
       "      <th>Date</th>\n",
       "      <th>Time</th>\n",
       "      <th>AMPM</th>\n",
       "      <th>User</th>\n",
       "      <th>Chat</th>\n",
       "    </tr>\n",
       "  </thead>\n",
       "  <tbody>\n",
       "    <tr>\n",
       "      <td>0</td>\n",
       "      <td>12/13/17</td>\n",
       "      <td>1:15</td>\n",
       "      <td>AM</td>\n",
       "      <td>Sindhu Jr Rockwell</td>\n",
       "      <td>Its a girl lifting weights</td>\n",
       "    </tr>\n",
       "  </tbody>\n",
       "</table>\n",
       "</div>"
      ],
      "text/plain": [
       "       Date  Time AMPM                User                         Chat\n",
       "0  12/13/17  1:15   AM  Sindhu Jr Rockwell  Its a girl lifting weights "
      ]
     },
     "execution_count": 13,
     "metadata": {},
     "output_type": "execute_result"
    }
   ],
   "source": [
    "# First Message by?\n",
    "df.head(1)"
   ]
  },
  {
   "cell_type": "code",
   "execution_count": 14,
   "metadata": {},
   "outputs": [],
   "source": [
    "msgs_by_user = dict(df.User.value_counts())"
   ]
  },
  {
   "cell_type": "code",
   "execution_count": 15,
   "metadata": {},
   "outputs": [
    {
     "data": {
      "text/plain": [
       "2"
      ]
     },
     "execution_count": 15,
     "metadata": {},
     "output_type": "execute_result"
    }
   ],
   "source": [
    "len(msgs_by_user.keys())"
   ]
  },
  {
   "cell_type": "code",
   "execution_count": 16,
   "metadata": {},
   "outputs": [
    {
     "data": {
      "text/plain": [
       "{'Sindhu Jr Rockwell': 556, 'Suryatej': 409}"
      ]
     },
     "execution_count": 16,
     "metadata": {},
     "output_type": "execute_result"
    }
   ],
   "source": [
    "msgs_by_user"
   ]
  },
  {
   "cell_type": "code",
   "execution_count": 19,
   "metadata": {},
   "outputs": [
    {
     "data": {
      "image/png": "[encoded data removed]",
      "text/plain": [
       "<Figure size 1080x504 with 1 Axes>"
      ]
     },
     "metadata": {
      "needs_background": "light"
     },
     "output_type": "display_data"
    }
   ],
   "source": [
    "fig, ax = plt.subplots(figsize=(15,7))\n",
    "y_pos = np.arange(len(msgs_by_user.keys()))\n",
    "plt.bar(y_pos, list(msgs_by_user.values()), align='center', alpha=0.5)\n",
    "plt.xticks(y_pos, list(msgs_by_user.keys()))\n",
    "plt.ylabel('No of Texts')\n",
    "plt.title('Userwise No of Texts')\n",
    "plt.show()"
   ]
  },
  {
   "cell_type": "code",
   "execution_count": 20,
   "metadata": {},
   "outputs": [],
   "source": [
    "df[\"Chat\"].replace(\"Media omitted\",\"\", inplace=True) # skipping media content"
   ]
  },
  {
   "cell_type": "code",
   "execution_count": 21,
   "metadata": {},
   "outputs": [],
   "source": [
    "from collections import Counter\n",
    "\n",
    "def most_common_words(_dataframe, byuser=True):\n",
    "    common_word_dict = {}\n",
    "    if byuser==True:\n",
    "        for users in msgs_by_user.keys():\n",
    "            common_word_dict[users] = Counter()\n",
    "            for _chat in [ i.lower().split() for i in df[df[\"User\"]==users][\"Chat\"].values if i != \"\"]:\n",
    "                common_word_dict[users].update(_chat)\n",
    "            \n",
    "    return common_word_dict\n",
    "            "
   ]
  },
  {
   "cell_type": "code",
   "execution_count": 22,
   "metadata": {},
   "outputs": [],
   "source": [
    "common_word_dict = most_common_words(df,True)"
   ]
  },
  {
   "cell_type": "code",
   "execution_count": 25,
   "metadata": {},
   "outputs": [
    {
     "name": "stdout",
     "output_type": "stream",
     "text": [
      "Sindhu Jr Rockwell's Most Commonly used words\n"
     ]
    },
    {
     "data": {
      "text/plain": [
       "[('i', 52),\n",
       " ('it', 39),\n",
       " ('you', 32),\n",
       " ('yeah', 30),\n",
       " ('the', 28),\n",
       " ('is', 27),\n",
       " ('a', 26),\n",
       " ('to', 24),\n",
       " ('for', 23),\n",
       " ('haha', 22),\n",
       " ('surya', 19),\n",
       " ('in', 19),\n",
       " ('so', 19),\n",
       " ('and', 18),\n",
       " ('ohh', 15),\n",
       " ('lo', 15),\n",
       " ('have', 14),\n",
       " ('no', 13),\n",
       " ('u', 12),\n",
       " ('thank', 11),\n",
       " ('ki', 11),\n",
       " ('ga', 11),\n",
       " ('all', 11),\n",
       " ('your', 11),\n",
       " ('na', 11)]"
      ]
     },
     "execution_count": 25,
     "metadata": {},
     "output_type": "execute_result"
    }
   ],
   "source": [
    "users = list(msgs_by_user.keys())\n",
    "print (\"{}\\'s Most Commonly used words\".format(users[0]))\n",
    "common_word_dict[users[0]].most_common(25)"
   ]
  },
  {
   "cell_type": "code",
   "execution_count": 26,
   "metadata": {},
   "outputs": [
    {
     "name": "stdout",
     "output_type": "stream",
     "text": [
      "Suryatej's Most Commonly used words\n"
     ]
    },
    {
     "data": {
      "text/plain": [
       "[('i', 45),\n",
       " ('to', 37),\n",
       " ('the', 28),\n",
       " ('it', 27),\n",
       " ('for', 21),\n",
       " ('in', 21),\n",
       " ('u', 20),\n",
       " ('and', 16),\n",
       " ('will', 15),\n",
       " ('is', 15),\n",
       " ('ok', 15),\n",
       " ('so', 14),\n",
       " ('good', 14),\n",
       " ('sindhu', 14),\n",
       " ('of', 13),\n",
       " ('a', 13),\n",
       " ('or', 13),\n",
       " ('know', 12),\n",
       " ('you', 12),\n",
       " ('be', 12),\n",
       " ('me', 11),\n",
       " ('nenu', 11),\n",
       " ('was', 10),\n",
       " ('2', 10),\n",
       " ('can', 9)]"
      ]
     },
     "execution_count": 26,
     "metadata": {},
     "output_type": "execute_result"
    }
   ],
   "source": [
    "print (\"{}\\'s Most Commonly used words\".format(users[1]))\n",
    "common_word_dict[users[1]].most_common(25)"
   ]
  },
  {
   "cell_type": "code",
   "execution_count": 27,
   "metadata": {},
   "outputs": [],
   "source": [
    "# Splitting Month/Date/Year\n",
    "temp_df = pd.DataFrame({\"Month\":[],\"Day\":[],\"Year\":[]})\n",
    "for index,row in df.iterrows():\n",
    "    # print(row[\"Date\"])\n",
    "    temp_df.loc[index] = row[\"Date\"].split(\"/\")\n",
    "    # print(temp_df.loc[index])"
   ]
  },
  {
   "cell_type": "code",
   "execution_count": 28,
   "metadata": {},
   "outputs": [],
   "source": [
    "df[\"Day\"] = temp_df[\"Day\"] # adding the data back to main dataframe\n",
    "df[\"Month\"] = temp_df[\"Month\"]\n",
    "df[\"Year\"] = temp_df[\"Year\"]"
   ]
  },
  {
   "cell_type": "code",
   "execution_count": 29,
   "metadata": {},
   "outputs": [
    {
     "data": {
      "text/html": [
       "<div>\n",
       "<style scoped>\n",
       "    .dataframe tbody tr th:only-of-type {\n",
       "        vertical-align: middle;\n",
       "    }\n",
       "\n",
       "    .dataframe tbody tr th {\n",
       "        vertical-align: top;\n",
       "    }\n",
       "\n",
       "    .dataframe thead th {\n",
       "        text-align: right;\n",
       "    }\n",
       "</style>\n",
       "<table border=\"1\" class=\"dataframe\">\n",
       "  <thead>\n",
       "    <tr style=\"text-align: right;\">\n",
       "      <th></th>\n",
       "      <th>Date</th>\n",
       "      <th>Time</th>\n",
       "      <th>AMPM</th>\n",
       "      <th>User</th>\n",
       "      <th>Chat</th>\n",
       "      <th>Day</th>\n",
       "      <th>Month</th>\n",
       "      <th>Year</th>\n",
       "    </tr>\n",
       "  </thead>\n",
       "  <tbody>\n",
       "    <tr>\n",
       "      <td>0</td>\n",
       "      <td>12/13/17</td>\n",
       "      <td>1:15</td>\n",
       "      <td>AM</td>\n",
       "      <td>Sindhu Jr Rockwell</td>\n",
       "      <td>Its a girl lifting weights</td>\n",
       "      <td>13</td>\n",
       "      <td>12</td>\n",
       "      <td>17</td>\n",
       "    </tr>\n",
       "    <tr>\n",
       "      <td>1</td>\n",
       "      <td>12/13/17</td>\n",
       "      <td>1:37</td>\n",
       "      <td>AM</td>\n",
       "      <td>Suryatej</td>\n",
       "      <td></td>\n",
       "      <td>13</td>\n",
       "      <td>12</td>\n",
       "      <td>17</td>\n",
       "    </tr>\n",
       "    <tr>\n",
       "      <td>2</td>\n",
       "      <td>12/13/17</td>\n",
       "      <td>2:21</td>\n",
       "      <td>AM</td>\n",
       "      <td>Sindhu Jr Rockwell</td>\n",
       "      <td></td>\n",
       "      <td>13</td>\n",
       "      <td>12</td>\n",
       "      <td>17</td>\n",
       "    </tr>\n",
       "    <tr>\n",
       "      <td>3</td>\n",
       "      <td>12/15/17</td>\n",
       "      <td>6:21</td>\n",
       "      <td>AM</td>\n",
       "      <td>Sindhu Jr Rockwell</td>\n",
       "      <td></td>\n",
       "      <td>15</td>\n",
       "      <td>12</td>\n",
       "      <td>17</td>\n",
       "    </tr>\n",
       "    <tr>\n",
       "      <td>4</td>\n",
       "      <td>12/15/17</td>\n",
       "      <td>6:21</td>\n",
       "      <td>AM</td>\n",
       "      <td>Suryatej</td>\n",
       "      <td>Yeah I know My fav director</td>\n",
       "      <td>15</td>\n",
       "      <td>12</td>\n",
       "      <td>17</td>\n",
       "    </tr>\n",
       "  </tbody>\n",
       "</table>\n",
       "</div>"
      ],
      "text/plain": [
       "       Date  Time AMPM                User                         Chat Day Month Year\n",
       "0  12/13/17  1:15   AM  Sindhu Jr Rockwell  Its a girl lifting weights   13    12   17\n",
       "1  12/13/17  1:37   AM            Suryatej                               13    12   17\n",
       "2  12/13/17  2:21   AM  Sindhu Jr Rockwell                               13    12   17\n",
       "3  12/15/17  6:21   AM  Sindhu Jr Rockwell                               15    12   17\n",
       "4  12/15/17  6:21   AM            Suryatej  Yeah I know My fav director  15    12   17"
      ]
     },
     "execution_count": 29,
     "metadata": {},
     "output_type": "execute_result"
    }
   ],
   "source": [
    "df.head(5) # Blank Messages are mostly emoticons / Media files (like images) # have to write code to interpret them too"
   ]
  },
  {
   "cell_type": "code",
   "execution_count": 30,
   "metadata": {},
   "outputs": [
    {
     "data": {
      "text/plain": [
       "7/14/19     102\n",
       "10/25/18    100\n",
       "11/25/18     77\n",
       "11/22/19     59\n",
       "11/15/19     58\n",
       "           ... \n",
       "3/3/19        1\n",
       "6/28/18       1\n",
       "5/30/18       1\n",
       "1/10/18       1\n",
       "8/26/19       1\n",
       "Name: Date, Length: 69, dtype: int64"
      ]
     },
     "execution_count": 30,
     "metadata": {},
     "output_type": "execute_result"
    }
   ],
   "source": [
    "df.Date.value_counts() # most chat convo days"
   ]
  },
  {
   "cell_type": "code",
   "execution_count": 31,
   "metadata": {},
   "outputs": [
    {
     "data": {
      "text/plain": [
       "Year\n",
       "17     32\n",
       "18    479\n",
       "19    454\n",
       "Name: Chat, dtype: int64"
      ]
     },
     "execution_count": 31,
     "metadata": {},
     "output_type": "execute_result"
    }
   ],
   "source": [
    "df.groupby(['Year'])[\"Chat\"].count() # No of Text based on year"
   ]
  },
  {
   "cell_type": "code",
   "execution_count": 32,
   "metadata": {},
   "outputs": [
    {
     "data": {
      "text/plain": [
       "Year\n",
       "17                                 [12]\n",
       "18    [1, 3, 5, 6, 7, 8, 9, 10, 11, 12]\n",
       "19           [1, 2, 3, 4, 7, 8, 11, 12]\n",
       "Name: Month, dtype: object"
      ]
     },
     "execution_count": 32,
     "metadata": {},
     "output_type": "execute_result"
    }
   ],
   "source": [
    "df.groupby(['Year'])[\"Month\"].unique()"
   ]
  },
  {
   "cell_type": "code",
   "execution_count": 33,
   "metadata": {},
   "outputs": [
    {
     "data": {
      "text/plain": [
       "Year  Month  Day\n",
       "17    12     13      3\n",
       "             15     19\n",
       "             18     10\n",
       "18    1      10      1\n",
       "             11      3\n",
       "                    ..\n",
       "19    7      31      3\n",
       "      8      24      4\n",
       "             26      1\n",
       "             3       2\n",
       "             9       3\n",
       "Name: Chat, Length: 69, dtype: int64"
      ]
     },
     "execution_count": 33,
     "metadata": {},
     "output_type": "execute_result"
    }
   ],
   "source": [
    "df.groupby(['Year',\"Month\",\"Day\"])[\"Chat\"].count() # Chat based on Day, Month, Year"
   ]
  },
  {
   "cell_type": "code",
   "execution_count": 174,
   "metadata": {},
   "outputs": [],
   "source": [
    "import matplotlib.pyplot as plt"
   ]
  },
  {
   "cell_type": "code",
   "execution_count": 34,
   "metadata": {},
   "outputs": [
    {
     "data": {
      "text/plain": [
       "<matplotlib.axes._subplots.AxesSubplot at 0x26246c0a408>"
      ]
     },
     "execution_count": 34,
     "metadata": {},
     "output_type": "execute_result"
    },
    {
     "data": {
      "image/png": "[encoded data removed]",
      "text/plain": [
       "<Figure size 1080x504 with 1 Axes>"
      ]
     },
     "metadata": {
      "needs_background": "light"
     },
     "output_type": "display_data"
    }
   ],
   "source": [
    "fig, ax = plt.subplots(figsize=(15,7))\n",
    "plt.title(\"DD/MM/YY Userwise Chat Plot\")\n",
    "df.groupby(['Year',\"Month\",\"Day\",\"User\"])[\"Chat\"].count().unstack().plot(ax=ax) # Plot Based on userwise Chat info"
   ]
  },
  {
   "cell_type": "code",
   "execution_count": 35,
   "metadata": {},
   "outputs": [
    {
     "data": {
      "text/plain": [
       "<matplotlib.axes._subplots.AxesSubplot at 0x26246cf1248>"
      ]
     },
     "execution_count": 35,
     "metadata": {},
     "output_type": "execute_result"
    },
    {
     "data": {
      "image/png": "[encoded data removed]",
      "text/plain": [
       "<Figure size 1080x504 with 1 Axes>"
      ]
     },
     "metadata": {
      "needs_background": "light"
     },
     "output_type": "display_data"
    }
   ],
   "source": [
    "fig, ax = plt.subplots(figsize=(15,7))\n",
    "plt.title(\"YY/MM Chat Plot\")\n",
    "df.groupby(['Year',\"Month\",\"User\"])[\"Chat\"].count().unstack().plot(kind='bar',ax=ax)"
   ]
  },
  {
   "cell_type": "code",
   "execution_count": 36,
   "metadata": {},
   "outputs": [
    {
     "data": {
      "text/plain": [
       "<matplotlib.axes._subplots.AxesSubplot at 0x26246dec3c8>"
      ]
     },
     "execution_count": 36,
     "metadata": {},
     "output_type": "execute_result"
    },
    {
     "data": {
      "image/png": "[encoded data removed]",
      "text/plain": [
       "<Figure size 1080x504 with 1 Axes>"
      ]
     },
     "metadata": {
      "needs_background": "light"
     },
     "output_type": "display_data"
    }
   ],
   "source": [
    "fig, ax = plt.subplots(figsize=(15,7))\n",
    "plt.title(\"DD/MM Chat Plot\")\n",
    "df.groupby(['Day',\"Month\",\"User\"])[\"Chat\"].count().unstack().plot(kind='bar',ax=ax)"
   ]
  },
  {
   "cell_type": "code",
   "execution_count": 37,
   "metadata": {},
   "outputs": [
    {
     "data": {
      "text/plain": [
       "Year  Month  User              \n",
       "17    12     Sindhu Jr Rockwell     19\n",
       "             Suryatej               13\n",
       "18    1      Sindhu Jr Rockwell      2\n",
       "             Suryatej                2\n",
       "      10     Sindhu Jr Rockwell    129\n",
       "                                  ... \n",
       "19    4      Suryatej               31\n",
       "      7      Sindhu Jr Rockwell     59\n",
       "             Suryatej               46\n",
       "      8      Sindhu Jr Rockwell      5\n",
       "             Suryatej                5\n",
       "Name: Chat, Length: 37, dtype: int64"
      ]
     },
     "execution_count": 37,
     "metadata": {},
     "output_type": "execute_result"
    }
   ],
   "source": [
    "# Most Converserd Month\n",
    "df.groupby(['Year',\"Month\",\"User\"])[\"Chat\"].count()"
   ]
  },
  {
   "cell_type": "code",
   "execution_count": 38,
   "metadata": {},
   "outputs": [
    {
     "data": {
      "text/plain": [
       "Month  Day\n",
       "1      10      1\n",
       "       11      3\n",
       "       24      2\n",
       "       26     26\n",
       "       29     14\n",
       "              ..\n",
       "8      26      1\n",
       "       3       2\n",
       "       9       3\n",
       "9      11      3\n",
       "       5       7\n",
       "Name: User, Length: 66, dtype: int64"
      ]
     },
     "execution_count": 38,
     "metadata": {},
     "output_type": "execute_result"
    }
   ],
   "source": [
    "df.groupby([\"Month\",\"Day\"])[\"User\"].count()"
   ]
  },
  {
   "cell_type": "code",
   "execution_count": 39,
   "metadata": {},
   "outputs": [
    {
     "data": {
      "text/plain": [
       "Suryatej              39\n",
       "Sindhu Jr Rockwell    30\n",
       "Name: User, dtype: int64"
      ]
     },
     "execution_count": 39,
     "metadata": {},
     "output_type": "execute_result"
    }
   ],
   "source": [
    "df.drop_duplicates(subset='Date', keep=\"first\")[\"User\"].value_counts() # No of Times A user initiated a Conversation"
   ]
  },
  {
   "cell_type": "code",
   "execution_count": 40,
   "metadata": {},
   "outputs": [
    {
     "data": {
      "text/plain": [
       "Sindhu Jr Rockwell    48\n",
       "Suryatej              21\n",
       "Name: User, dtype: int64"
      ]
     },
     "execution_count": 40,
     "metadata": {},
     "output_type": "execute_result"
    }
   ],
   "source": [
    "df.drop_duplicates(subset='Date', keep=\"last\")[\"User\"].value_counts() # No of Times A user ended a Conversation"
   ]
  },
  {
   "cell_type": "markdown",
   "metadata": {},
   "source": [
    "Pretty much I initiate the Chat and You have ended it."
   ]
  },
  {
   "cell_type": "code",
   "execution_count": null,
   "metadata": {},
   "outputs": [],
   "source": [
    "def Birthday_first_wish_time(_dataframe):\n",
    "    pass"
   ]
  },
  {
   "cell_type": "code",
   "execution_count": null,
   "metadata": {},
   "outputs": [],
   "source": [
    "def Average_message_lenght_by_user(_dataframe):\n",
    "    pass"
   ]
  },
  {
   "cell_type": "code",
   "execution_count": null,
   "metadata": {},
   "outputs": [],
   "source": [
    "def most_commonly_used_emoticon(_dataframe):\n",
    "    # Gives info on what kind of emotion user carries\n",
    "    pass"
   ]
  },
  {
   "cell_type": "code",
   "execution_count": null,
   "metadata": {},
   "outputs": [],
   "source": [
    "def average_reply_time(dataframe, include_Extremes=False):\n",
    "    pass"
   ]
  },
  {
   "cell_type": "code",
   "execution_count": null,
   "metadata": {},
   "outputs": [],
   "source": [
    "def most_time_spent_hour(dataframe):\n",
    "    pass"
   ]
  }
 ],
 "metadata": {
  "kernelspec": {
   "display_name": "Python 3",
   "language": "python",
   "name": "python3"
  },
  "language_info": {
   "codemirror_mode": {
    "name": "ipython",
    "version": 3
   },
   "file_extension": ".py",
   "mimetype": "text/x-python",
   "name": "python",
   "nbconvert_exporter": "python",
   "pygments_lexer": "ipython3",
   "version": "3.7.4"
  }
 },
 "nbformat": 4,
 "nbformat_minor": 2
}
